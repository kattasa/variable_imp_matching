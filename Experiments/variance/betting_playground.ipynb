{
 "cells": [
  {
   "cell_type": "code",
   "execution_count": 3,
   "metadata": {},
   "outputs": [],
   "source": [
    "from confseq.betting import betting_ci\n",
    "import numpy as np"
   ]
  },
  {
   "cell_type": "code",
   "execution_count": 2,
   "metadata": {},
   "outputs": [],
   "source": [
    "def sample_from_mixture(beta_a_list, beta_b_list, group_probs, n_samples):\n",
    "    # Sample from beta distributions for each group\n",
    "    x_full = np.random.beta(beta_a_list, beta_b_list, size = (n_samples, len(beta_a_list)))\n",
    "    \n",
    "    # Sample group assignments based on group probabilities\n",
    "    mixture_id = np.random.multinomial(n = 1, pvals = group_probs, size = n_samples)\n",
    "    \n",
    "    # Combine samples based on group assignments\n",
    "    samples = (x_full * mixture_id).sum(axis = 1)\n",
    "    \n",
    "    # Calculate the true mean of the mixture distribution\n",
    "    true_mean = sum([beta_a_list[i]/(beta_a_list[i] + beta_b_list[i]) * group_probs[i] for i in range(len(beta_b_list))])\n",
    "    \n",
    "    return samples, true_mean\n",
    "\n",
    "def sample_mixtures(n_groups):\n",
    "    # Generate random parameters for beta distributions\n",
    "    beta_a_list = np.random.uniform(1, 100, size = n_groups)\n",
    "    beta_b_list = np.random.uniform(1, 100, size = n_groups)\n",
    "    \n",
    "    # Generate random weights for each group and normalize to get probabilities\n",
    "    group_weight_list = np.random.uniform(1, 100, size = n_groups)\n",
    "    group_prob_list = group_weight_list/group_weight_list.sum()\n",
    "    \n",
    "    return beta_a_list, beta_b_list, group_prob_list\n",
    "\n",
    "def full_mixture_pipeline(n_groups, n_samples):\n",
    "    # Sample mixture parameters\n",
    "    beta_a_list, beta_b_list, group_prob_list = sample_mixtures(n_groups)\n",
    "    \n",
    "    # Sample from the mixture distribution\n",
    "    samples, true_mean = sample_from_mixture(beta_a_list, beta_b_list, group_prob_list, n_samples)\n",
    "    \n",
    "    return beta_a_list, beta_b_list, group_prob_list, true_mean, samples"
   ]
  },
  {
   "cell_type": "code",
   "execution_count": 8,
   "metadata": {},
   "outputs": [
    {
     "name": "stdout",
     "output_type": "stream",
     "text": [
      "100\n",
      "1000/ 1000\n",
      "10000 1000\n",
      "0 / 1000\r"
     ]
    },
    {
     "name": "stderr",
     "output_type": "stream",
     "text": [
      "/home/users/sk787/.local/lib/python3.10/site-packages/numpy/core/fromnumeric.py:57: RuntimeWarning: overflow encountered in accumulate\n",
      "  return bound(*args, **kwds)\n"
     ]
    },
    {
     "name": "stdout",
     "output_type": "stream",
     "text": [
      "81 / 1000\r"
     ]
    },
    {
     "ename": "KeyboardInterrupt",
     "evalue": "",
     "output_type": "error",
     "traceback": [
      "\u001b[0;31m---------------------------------------------------------------------------\u001b[0m",
      "\u001b[0;31mKeyboardInterrupt\u001b[0m                         Traceback (most recent call last)",
      "\u001b[0;32m/tmp/ipykernel_3450033/3598094729.py\u001b[0m in \u001b[0;36m<module>\u001b[0;34m\u001b[0m\n\u001b[1;32m     17\u001b[0m \u001b[0;34m\u001b[0m\u001b[0m\n\u001b[1;32m     18\u001b[0m         \u001b[0;31m# construct confidence interval\u001b[0m\u001b[0;34m\u001b[0m\u001b[0;34m\u001b[0m\u001b[0m\n\u001b[0;32m---> 19\u001b[0;31m         \u001b[0mlb\u001b[0m\u001b[0;34m,\u001b[0m \u001b[0mub\u001b[0m \u001b[0;34m=\u001b[0m \u001b[0mbetting_ci\u001b[0m\u001b[0;34m(\u001b[0m\u001b[0msample\u001b[0m\u001b[0;34m,\u001b[0m \u001b[0malpha\u001b[0m \u001b[0;34m=\u001b[0m \u001b[0malpha\u001b[0m\u001b[0;34m)\u001b[0m\u001b[0;34m\u001b[0m\u001b[0;34m\u001b[0m\u001b[0m\n\u001b[0m\u001b[1;32m     20\u001b[0m \u001b[0;34m\u001b[0m\u001b[0m\n\u001b[1;32m     21\u001b[0m         \u001b[0;31m# evaluate coverage\u001b[0m\u001b[0;34m\u001b[0m\u001b[0;34m\u001b[0m\u001b[0m\n",
      "\u001b[0;32m~/.local/lib/python3.10/site-packages/confseq/betting.py\u001b[0m in \u001b[0;36mbetting_ci\u001b[0;34m(x, alpha, lambdas_fns_positive, lambdas_fns_negative, N, breaks, running_intersection, parallel, convex_comb, theta, trunc_scale, m_trunc)\u001b[0m\n\u001b[1;32m    868\u001b[0m     ]\n\u001b[1;32m    869\u001b[0m \u001b[0;34m\u001b[0m\u001b[0m\n\u001b[0;32m--> 870\u001b[0;31m     l, u = betting_cs(\n\u001b[0m\u001b[1;32m    871\u001b[0m         \u001b[0mx\u001b[0m\u001b[0;34m,\u001b[0m\u001b[0;34m\u001b[0m\u001b[0;34m\u001b[0m\u001b[0m\n\u001b[1;32m    872\u001b[0m         \u001b[0malpha\u001b[0m\u001b[0;34m=\u001b[0m\u001b[0malpha\u001b[0m\u001b[0;34m,\u001b[0m\u001b[0;34m\u001b[0m\u001b[0;34m\u001b[0m\u001b[0m\n",
      "\u001b[0;32m~/.local/lib/python3.10/site-packages/confseq/betting.py\u001b[0m in \u001b[0;36mbetting_cs\u001b[0;34m(x, lambdas_fns_positive, lambdas_fns_negative, alpha, N, breaks, running_intersection, parallel, convex_comb, theta, trunc_scale, m_trunc)\u001b[0m\n\u001b[1;32m    295\u001b[0m     )\n\u001b[1;32m    296\u001b[0m \u001b[0;34m\u001b[0m\u001b[0m\n\u001b[0;32m--> 297\u001b[0;31m     l, u = cs_from_martingale(\n\u001b[0m\u001b[1;32m    298\u001b[0m         \u001b[0mx\u001b[0m\u001b[0;34m,\u001b[0m\u001b[0;34m\u001b[0m\u001b[0;34m\u001b[0m\u001b[0m\n\u001b[1;32m    299\u001b[0m         \u001b[0mmart_fn\u001b[0m\u001b[0;34m,\u001b[0m\u001b[0;34m\u001b[0m\u001b[0;34m\u001b[0m\u001b[0m\n",
      "\u001b[0;32m~/.local/lib/python3.10/site-packages/confseq/betting.py\u001b[0m in \u001b[0;36mcs_from_martingale\u001b[0;34m(x, mart_fn, breaks, alpha, N, running_intersection, parallel, log_scale)\u001b[0m\n\u001b[1;32m    545\u001b[0m         \u001b[0;32mfor\u001b[0m \u001b[0mi\u001b[0m \u001b[0;32min\u001b[0m \u001b[0mnp\u001b[0m\u001b[0;34m.\u001b[0m\u001b[0marange\u001b[0m\u001b[0;34m(\u001b[0m\u001b[0;36m0\u001b[0m\u001b[0;34m,\u001b[0m \u001b[0mlen\u001b[0m\u001b[0;34m(\u001b[0m\u001b[0mpossible_m\u001b[0m\u001b[0;34m)\u001b[0m\u001b[0;34m)\u001b[0m\u001b[0;34m:\u001b[0m\u001b[0;34m\u001b[0m\u001b[0;34m\u001b[0m\u001b[0m\n\u001b[1;32m    546\u001b[0m             \u001b[0mm\u001b[0m \u001b[0;34m=\u001b[0m \u001b[0mpossible_m\u001b[0m\u001b[0;34m[\u001b[0m\u001b[0mi\u001b[0m\u001b[0;34m]\u001b[0m\u001b[0;34m\u001b[0m\u001b[0;34m\u001b[0m\u001b[0m\n\u001b[0;32m--> 547\u001b[0;31m             \u001b[0mconfseq_mtx\u001b[0m\u001b[0;34m[\u001b[0m\u001b[0mi\u001b[0m\u001b[0;34m,\u001b[0m \u001b[0;34m:\u001b[0m\u001b[0;34m]\u001b[0m \u001b[0;34m=\u001b[0m \u001b[0mmart_fn\u001b[0m\u001b[0;34m(\u001b[0m\u001b[0mx\u001b[0m\u001b[0;34m,\u001b[0m \u001b[0mm\u001b[0m\u001b[0;34m)\u001b[0m \u001b[0;34m<=\u001b[0m \u001b[0mthreshold\u001b[0m\u001b[0;34m\u001b[0m\u001b[0;34m\u001b[0m\u001b[0m\n\u001b[0m\u001b[1;32m    548\u001b[0m \u001b[0;34m\u001b[0m\u001b[0m\n\u001b[1;32m    549\u001b[0m     \u001b[0ml\u001b[0m \u001b[0;34m=\u001b[0m \u001b[0mnp\u001b[0m\u001b[0;34m.\u001b[0m\u001b[0mzeros\u001b[0m\u001b[0;34m(\u001b[0m\u001b[0mlen\u001b[0m\u001b[0;34m(\u001b[0m\u001b[0mx\u001b[0m\u001b[0;34m)\u001b[0m\u001b[0;34m)\u001b[0m\u001b[0;34m\u001b[0m\u001b[0;34m\u001b[0m\u001b[0m\n",
      "\u001b[0;32m~/.local/lib/python3.10/site-packages/confseq/betting.py\u001b[0m in \u001b[0;36m<lambda>\u001b[0;34m(x, m)\u001b[0m\n\u001b[1;32m    282\u001b[0m     \u001b[0;32massert\u001b[0m \u001b[0mlen\u001b[0m\u001b[0;34m(\u001b[0m\u001b[0mlambdas_fns_positive\u001b[0m\u001b[0;34m)\u001b[0m \u001b[0;34m==\u001b[0m \u001b[0mlen\u001b[0m\u001b[0;34m(\u001b[0m\u001b[0mlambdas_fns_negative\u001b[0m\u001b[0;34m)\u001b[0m\u001b[0;34m\u001b[0m\u001b[0;34m\u001b[0m\u001b[0m\n\u001b[1;32m    283\u001b[0m \u001b[0;34m\u001b[0m\u001b[0m\n\u001b[0;32m--> 284\u001b[0;31m     mart_fn = lambda x, m: diversified_betting_mart(\n\u001b[0m\u001b[1;32m    285\u001b[0m         \u001b[0mx\u001b[0m\u001b[0;34m,\u001b[0m\u001b[0;34m\u001b[0m\u001b[0;34m\u001b[0m\u001b[0m\n\u001b[1;32m    286\u001b[0m         \u001b[0mm\u001b[0m\u001b[0;34m,\u001b[0m\u001b[0;34m\u001b[0m\u001b[0;34m\u001b[0m\u001b[0m\n",
      "\u001b[0;32m~/.local/lib/python3.10/site-packages/confseq/betting.py\u001b[0m in \u001b[0;36mdiversified_betting_mart\u001b[0;34m(x, m, lambdas_fns_positive, lambdas_fns_negative, lambdas_weights, alpha, N, convex_comb, theta, trunc_scale, m_trunc)\u001b[0m\n\u001b[1;32m    477\u001b[0m         )\n\u001b[1;32m    478\u001b[0m \u001b[0;34m\u001b[0m\u001b[0m\n\u001b[0;32m--> 479\u001b[0;31m     \u001b[0;32massert\u001b[0m \u001b[0;32mnot\u001b[0m \u001b[0many\u001b[0m\u001b[0;34m(\u001b[0m\u001b[0mnp\u001b[0m\u001b[0;34m.\u001b[0m\u001b[0misnan\u001b[0m\u001b[0;34m(\u001b[0m\u001b[0mmart\u001b[0m\u001b[0;34m)\u001b[0m\u001b[0;34m)\u001b[0m\u001b[0;34m\u001b[0m\u001b[0;34m\u001b[0m\u001b[0m\n\u001b[0m\u001b[1;32m    480\u001b[0m \u001b[0;34m\u001b[0m\u001b[0m\n\u001b[1;32m    481\u001b[0m     \u001b[0;32mreturn\u001b[0m \u001b[0mmart\u001b[0m\u001b[0;34m\u001b[0m\u001b[0;34m\u001b[0m\u001b[0m\n",
      "\u001b[0;31mKeyboardInterrupt\u001b[0m: "
     ]
    }
   ],
   "source": [
    "## sample IID samples from the same distribution\n",
    "n_iter = 1000\n",
    "sizes = [100, 1000, 10000, 100000]\n",
    "beta_a = 10\n",
    "beta_b = 30\n",
    "true_mean = beta_a/(beta_a + beta_b)\n",
    "alpha = 0.05\n",
    "coverage_list = []\n",
    "for size in sizes:\n",
    "    print(size)\n",
    "    coverage = 0\n",
    "    for iter in range(n_iter):\n",
    "        print(iter, '/', n_iter, end = '\\r')\n",
    "        np.random.seed(iter * 42 + 1000)\n",
    "        # sample data\n",
    "        sample = np.random.beta(beta_a, beta_b, size = size)\n",
    "        \n",
    "        # construct confidence interval\n",
    "        lb, ub = betting_ci(sample, alpha = alpha)\n",
    "\n",
    "        # evaluate coverage\n",
    "        coverage += (lb <= true_mean) * (true_mean <= ub)\n",
    "    coverage_list.append(coverage / n_iter)\n",
    "    print(size, coverage / n_iter)"
   ]
  },
  {
   "cell_type": "code",
   "execution_count": null,
   "metadata": {},
   "outputs": [],
   "source": [
    "## sample IID samples from the same distribution\n",
    "n_iter = 1000\n",
    "sizes = [100, 1000, 10000, 100000]\n",
    "n_groups = 5\n",
    "alpha = 0.05\n",
    "coverage_list = []\n",
    "for size in sizes:\n",
    "    print(size)\n",
    "    coverage = 0\n",
    "    for iter in range(n_iter):\n",
    "        print(iter, '/', n_iter, end = '\\r')\n",
    "        np.random.seed(iter * 42 + 1000)\n",
    "        # sample data\n",
    "        beta_a_list, beta_b_list, group_prob_list, true_mean, sample = full_mixture_pipeline(n_groups, size)\n",
    "        \n",
    "        # construct confidence interval\n",
    "        lb, ub = betting_ci(sample, alpha = alpha)\n",
    "\n",
    "        # evaluate coverage\n",
    "        coverage += (lb <= true_mean) * (true_mean <= ub)\n",
    "    coverage_list.append(coverage / n_iter)\n",
    "    print(size, coverage / n_iter)"
   ]
  },
  {
   "cell_type": "code",
   "execution_count": 4,
   "metadata": {},
   "outputs": [],
   "source": [
    "import numpy as np"
   ]
  },
  {
   "cell_type": "code",
   "execution_count": 7,
   "metadata": {},
   "outputs": [
    {
     "ename": "AttributeError",
     "evalue": "'builtin_function_or_method' object has no attribute 'pdf'",
     "output_type": "error",
     "traceback": [
      "\u001b[0;31m---------------------------------------------------------------------------\u001b[0m",
      "\u001b[0;31mAttributeError\u001b[0m                            Traceback (most recent call last)",
      "\u001b[0;32m/tmp/ipykernel_891859/4180346951.py\u001b[0m in \u001b[0;36m<module>\u001b[0;34m\u001b[0m\n\u001b[1;32m      1\u001b[0m \u001b[0mx\u001b[0m \u001b[0;34m=\u001b[0m \u001b[0;34m[\u001b[0m\u001b[0;36m1\u001b[0m\u001b[0;34m,\u001b[0m \u001b[0;36m0\u001b[0m\u001b[0;34m,\u001b[0m \u001b[0;36m1\u001b[0m\u001b[0;34m,\u001b[0m \u001b[0;36m1\u001b[0m\u001b[0;34m]\u001b[0m\u001b[0;34m\u001b[0m\u001b[0;34m\u001b[0m\u001b[0m\n\u001b[0;32m----> 2\u001b[0;31m \u001b[0mnp\u001b[0m\u001b[0;34m.\u001b[0m\u001b[0mrandom\u001b[0m\u001b[0;34m.\u001b[0m\u001b[0mbinomial\u001b[0m\u001b[0;34m.\u001b[0m\u001b[0mpdf\u001b[0m\u001b[0;34m(\u001b[0m\u001b[0mx\u001b[0m\u001b[0;34m,\u001b[0m \u001b[0;36m1\u001b[0m\u001b[0;34m,\u001b[0m \u001b[0;36m0.5\u001b[0m\u001b[0;34m)\u001b[0m\u001b[0;34m\u001b[0m\u001b[0;34m\u001b[0m\u001b[0m\n\u001b[0m",
      "\u001b[0;31mAttributeError\u001b[0m: 'builtin_function_or_method' object has no attribute 'pdf'"
     ]
    }
   ],
   "source": [
    "x = [1, 0, 1, 1]\n",
    "np.random.binomial.pdf(x, 1, 0.5)"
   ]
  }
 ],
 "metadata": {
  "kernelspec": {
   "display_name": "Python 3",
   "language": "python",
   "name": "python3"
  },
  "language_info": {
   "codemirror_mode": {
    "name": "ipython",
    "version": 3
   },
   "file_extension": ".py",
   "mimetype": "text/x-python",
   "name": "python",
   "nbconvert_exporter": "python",
   "pygments_lexer": "ipython3",
   "version": "3.10.12"
  }
 },
 "nbformat": 4,
 "nbformat_minor": 2
}
